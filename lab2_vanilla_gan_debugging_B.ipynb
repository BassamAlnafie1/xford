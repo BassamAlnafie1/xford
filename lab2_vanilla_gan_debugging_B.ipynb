{
  "cells": [
    {
      "cell_type": "markdown",
      "metadata": {
        "id": "pb-H6MW_QiDF"
      },
      "source": [
        "# Lab 2: Debug a Broken Vanilla GAN (find 12+ issues)"
      ],
      "id": "pb-H6MW_QiDF"
    },
    {
      "cell_type": "code",
      "source": [
        "import torch, torchvision, torch.nn as nn\n",
        "from torch.utils.data import DataLoader\n",
        "from torchvision import transforms"
      ],
      "metadata": {
        "id": "Ez_zABGqQvhv"
      },
      "id": "Ez_zABGqQvhv",
      "execution_count": 1,
      "outputs": []
    },
    {
      "cell_type": "code",
      "metadata": {
        "colab": {
          "base_uri": "https://localhost:8080/"
        },
        "id": "tZ8SuBLtQiDG",
        "outputId": "0771edad-6551-4fe0-cc97-57dea62d1190"
      },
      "execution_count": 3,
      "outputs": [
        {
          "output_type": "stream",
          "name": "stderr",
          "text": [
            "100%|██████████| 9.91M/9.91M [00:00<00:00, 18.8MB/s]\n",
            "100%|██████████| 28.9k/28.9k [00:00<00:00, 501kB/s]\n",
            "100%|██████████| 1.65M/1.65M [00:00<00:00, 4.62MB/s]\n",
            "100%|██████████| 4.54k/4.54k [00:00<00:00, 10.2MB/s]\n"
          ]
        }
      ],
      "source": [
        "\n",
        "\n",
        "device=torch.device('cuda' if torch.cuda.is_available() else 'cpu')\n",
        "transform=transforms.Compose([transforms.ToTensor(),transforms.Normalize(0.1307,0.3081)])  # normalizes images to improve model stability. For MNIST, mean = 0.1307 and std = 0.3081.z\n",
        "loader=DataLoader(torchvision.datasets.MNIST('./data',True,download=True,transform=transform),batch_size=256,shuffle=True,num_workers=2,pin_memory=True)\n"
      ],
      "id": "tZ8SuBLtQiDG"
    },
    {
      "cell_type": "code",
      "source": [
        "z_dim=100; g_lr=2e-2; d_lr=2e-5\n",
        "class D(nn.Module):\n",
        "    def __init__(self):\n",
        "        super().__init__(); self.net=nn.Sequential(nn.Conv2d(1,32,4,2,1),\n",
        "                                                   nn.BatchNorm2d(32),\n",
        "                                                   nn.LeakyReLU(0.2,True),\n",
        "                                                   nn.Conv2d(32,64,4,2,1),\n",
        "                                                   nn.BatchNorm2d(64),\n",
        "                                                   nn.LeakyReLU(0.2,True),\n",
        "                                                   nn.Conv2d(64,1,7,1,0))\n",
        "    def forward(self,x):return self.net(x).view(x.size(0),1)\n",
        "\n",
        "class G(nn.Module):\n",
        "    def __init__(self):\n",
        "        super().__init__(); self.net=nn.Sequential(nn.ConvTranspose2d(100,128,4,1,0),\n",
        "                                                   nn.BatchNorm2d(128),\n",
        "                                                   nn.ReLU(True),\n",
        "                                                   nn.ConvTranspose2d(128,64,4,2,1),\n",
        "                                                   nn.BatchNorm2d(64),\n",
        "                                                   nn.ReLU(True),\n",
        "                                                   nn.ConvTranspose2d(64,32,4,2,1),\n",
        "                                                   nn.BatchNorm2d(32),\n",
        "                                                   nn.ReLU(True),\n",
        "                                                   nn.ConvTranspose2d(32,1,3,2,2),\n",
        "                                                   nn.Tanh())      # Tanh was added at the end to normalize the output to the range of [-1, 1].\n",
        "    def forward(self,z):  return self.net(z)       # Reshape Issue in Generator\n",
        "Dnet=D().to(device); Gnet=G().to(device)\n",
        "crit=nn.BCEWithLogitsLoss(); opt_d=torch.optim.Adam(Dnet.parameters(),lr=d_lr,betas=(0.9,0.999)); opt_g=torch.optim.Adam(Gnet.parameters(),lr=g_lr,betas=(0.9,0.999))"
      ],
      "metadata": {
        "id": "eba836KPQytB"
      },
      "id": "eba836KPQytB",
      "execution_count": 12,
      "outputs": []
    },
    {
      "cell_type": "code",
      "metadata": {
        "colab": {
          "base_uri": "https://localhost:8080/"
        },
        "id": "dI_wS0MpQiDH",
        "outputId": "cc7e2fde-dda9-4396-b8dd-157097114abc"
      },
      "execution_count": null,
      "outputs": [
        {
          "output_type": "stream",
          "name": "stderr",
          "text": [
            "\r  0%|          | 0/235 [00:00<?, ?it/s]/usr/local/lib/python3.12/dist-packages/torch/utils/data/dataloader.py:666: UserWarning: 'pin_memory' argument is set as true but no accelerator is found, then device pinned memory won't be used.\n",
            "  warnings.warn(warn_msg)\n",
            "100%|██████████| 235/235 [03:20<00:00,  1.17it/s]\n",
            "100%|██████████| 235/235 [03:17<00:00,  1.19it/s]\n",
            "100%|██████████| 235/235 [03:16<00:00,  1.20it/s]\n",
            "100%|██████████| 235/235 [03:19<00:00,  1.18it/s]\n",
            "100%|██████████| 235/235 [03:20<00:00,  1.17it/s]\n",
            " 16%|█▌        | 38/235 [00:32<02:40,  1.23it/s]"
          ]
        }
      ],
      "source": [
        "from tqdm import tqdm\n",
        "for epoch in range(10):\n",
        " for real,_ in tqdm(loader):\n",
        "    real=real.to(device)\n",
        "    b=real.size(0)\n",
        "    z=torch.randn(b,z_dim,device=device)\n",
        "    fake=Gnet(z.view(b,z_dim,1,1))\n",
        "    loss_d=crit(Dnet(real),torch.zeros(b,1,device=device))+crit(Dnet(fake),torch.ones(b,1,device=device))  # BUG labels #\n",
        "    loss_d.backward(); opt_d.step()  # BUG\n",
        "    z=torch.randn(b,z_dim,device=device); fake=Gnet(z.view(b,z_dim,1,1))\n",
        "    loss_g=crit(Dnet(fake),torch.zeros(b,1,device=device))  # BUG non-sat\n",
        "    loss_g.backward()  # BUG missing step\n",
        "print('Now fix all the issues.')"
      ],
      "id": "dI_wS0MpQiDH"
    },
    {
      "cell_type": "code",
      "source": [],
      "metadata": {
        "id": "gsHFOqyDlg6k"
      },
      "id": "gsHFOqyDlg6k",
      "execution_count": 15,
      "outputs": []
    },
    {
      "cell_type": "code",
      "source": [],
      "metadata": {
        "id": "ckrFZ41Yo0ro"
      },
      "id": "ckrFZ41Yo0ro",
      "execution_count": null,
      "outputs": []
    }
  ],
  "metadata": {
    "kernelspec": {
      "name": "python3",
      "display_name": "Python 3",
      "language": "python"
    },
    "colab": {
      "provenance": []
    }
  },
  "nbformat": 4,
  "nbformat_minor": 5
}